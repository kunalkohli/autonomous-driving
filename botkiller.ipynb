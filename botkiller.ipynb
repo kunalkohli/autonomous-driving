{
  "nbformat": 4,
  "nbformat_minor": 0,
  "metadata": {
    "kernelspec": {
      "display_name": "Python 3",
      "language": "python",
      "name": "python3"
    },
    "language_info": {
      "codemirror_mode": {
        "name": "ipython",
        "version": 3
      },
      "file_extension": ".py",
      "mimetype": "text/x-python",
      "name": "python",
      "nbconvert_exporter": "python",
      "pygments_lexer": "ipython3",
      "version": "3.6.5"
    },
    "colab": {
      "name": "botkiller.ipynb",
      "version": "0.3.2",
      "provenance": []
    }
  },
  "cells": [
    {
      "cell_type": "code",
      "metadata": {
        "id": "huPQaK2QxIjT",
        "colab_type": "code",
        "colab": {
          "base_uri": "https://localhost:8080/",
          "height": 255
        },
        "outputId": "875dbd5d-6abb-4c9e-b704-f43f43dd9417"
      },
      "source": [
        "!pip install -U -q PyDrive\n",
        "import os\n",
        "from pydrive.auth import GoogleAuth\n",
        "from pydrive.drive import GoogleDrive\n",
        "from google.colab import auth\n",
        "from oauth2client.client import GoogleCredentials\n",
        "\n",
        "# 1. Authenticate and create the PyDrive client.\n",
        "auth.authenticate_user()\n",
        "gauth = GoogleAuth()\n",
        "gauth.credentials = GoogleCredentials.get_application_default()\n",
        "drive = GoogleDrive(gauth)\n",
        "\n",
        "# choose a local (colab) directory to store the data.\n",
        "local_download_path = os.path.expanduser('~/data')\n",
        "try:\n",
        "  os.makedirs(local_download_path)\n",
        "except: pass\n",
        "\n",
        "# 2. Auto-iterate using the query syntax\n",
        "#    https://developers.google.com/drive/v2/web/search-parameters\n",
        "file_list = drive.ListFile(\n",
        "    {'q': \"'1f5XOccnZDTCKUR7V7MqHbs4-P56qw59C' in parents\"}).GetList()\n",
        "\n",
        "for f in file_list:\n",
        "  # 3. Create & download by id.\n",
        "  print('title: %s, id: %s' % (f['title'], f['id']))\n",
        "  fname = os.path.join(local_download_path, f['title'])\n",
        "  print('downloading to {}'.format(fname))\n",
        "  f_ = drive.CreateFile({'id': f['id']})\n",
        "  f_.GetContentFile(fname)\n",
        "\n",
        "\n",
        "with open(fname, 'r') as f:\n",
        "  print(f.read())"
      ],
      "execution_count": 2,
      "outputs": [
        {
          "output_type": "stream",
          "text": [
            "\u001b[?25l\r\u001b[K     |▎                               | 10kB 18.9MB/s eta 0:00:01\r\u001b[K     |▋                               | 20kB 1.9MB/s eta 0:00:01\r\u001b[K     |█                               | 30kB 2.7MB/s eta 0:00:01\r\u001b[K     |█▎                              | 40kB 1.8MB/s eta 0:00:01\r\u001b[K     |█▋                              | 51kB 2.2MB/s eta 0:00:01\r\u001b[K     |██                              | 61kB 2.6MB/s eta 0:00:01\r\u001b[K     |██▎                             | 71kB 3.0MB/s eta 0:00:01\r\u001b[K     |██▋                             | 81kB 3.4MB/s eta 0:00:01\r\u001b[K     |███                             | 92kB 3.8MB/s eta 0:00:01\r\u001b[K     |███▎                            | 102kB 2.9MB/s eta 0:00:01\r\u001b[K     |███▋                            | 112kB 2.9MB/s eta 0:00:01\r\u001b[K     |████                            | 122kB 2.9MB/s eta 0:00:01\r\u001b[K     |████▎                           | 133kB 2.9MB/s eta 0:00:01\r\u001b[K     |████▋                           | 143kB 2.9MB/s eta 0:00:01\r\u001b[K     |█████                           | 153kB 2.9MB/s eta 0:00:01\r\u001b[K     |█████▎                          | 163kB 2.9MB/s eta 0:00:01\r\u001b[K     |█████▋                          | 174kB 2.9MB/s eta 0:00:01\r\u001b[K     |██████                          | 184kB 2.9MB/s eta 0:00:01\r\u001b[K     |██████▎                         | 194kB 2.9MB/s eta 0:00:01\r\u001b[K     |██████▋                         | 204kB 2.9MB/s eta 0:00:01\r\u001b[K     |███████                         | 215kB 2.9MB/s eta 0:00:01\r\u001b[K     |███████▎                        | 225kB 2.9MB/s eta 0:00:01\r\u001b[K     |███████▋                        | 235kB 2.9MB/s eta 0:00:01\r\u001b[K     |████████                        | 245kB 2.9MB/s eta 0:00:01\r\u001b[K     |████████▎                       | 256kB 2.9MB/s eta 0:00:01\r\u001b[K     |████████▋                       | 266kB 2.9MB/s eta 0:00:01\r\u001b[K     |█████████                       | 276kB 2.9MB/s eta 0:00:01\r\u001b[K     |█████████▎                      | 286kB 2.9MB/s eta 0:00:01\r\u001b[K     |█████████▋                      | 296kB 2.9MB/s eta 0:00:01\r\u001b[K     |██████████                      | 307kB 2.9MB/s eta 0:00:01\r\u001b[K     |██████████▎                     | 317kB 2.9MB/s eta 0:00:01\r\u001b[K     |██████████▋                     | 327kB 2.9MB/s eta 0:00:01\r\u001b[K     |███████████                     | 337kB 2.9MB/s eta 0:00:01\r\u001b[K     |███████████▎                    | 348kB 2.9MB/s eta 0:00:01\r\u001b[K     |███████████▋                    | 358kB 2.9MB/s eta 0:00:01\r\u001b[K     |████████████                    | 368kB 2.9MB/s eta 0:00:01\r\u001b[K     |████████████▎                   | 378kB 2.9MB/s eta 0:00:01\r\u001b[K     |████████████▋                   | 389kB 2.9MB/s eta 0:00:01\r\u001b[K     |█████████████                   | 399kB 2.9MB/s eta 0:00:01\r\u001b[K     |█████████████▎                  | 409kB 2.9MB/s eta 0:00:01\r\u001b[K     |█████████████▋                  | 419kB 2.9MB/s eta 0:00:01\r\u001b[K     |██████████████                  | 430kB 2.9MB/s eta 0:00:01\r\u001b[K     |██████████████▎                 | 440kB 2.9MB/s eta 0:00:01\r\u001b[K     |██████████████▋                 | 450kB 2.9MB/s eta 0:00:01\r\u001b[K     |███████████████                 | 460kB 2.9MB/s eta 0:00:01\r\u001b[K     |███████████████▎                | 471kB 2.9MB/s eta 0:00:01\r\u001b[K     |███████████████▋                | 481kB 2.9MB/s eta 0:00:01\r\u001b[K     |████████████████                | 491kB 2.9MB/s eta 0:00:01\r\u001b[K     |████████████████▎               | 501kB 2.9MB/s eta 0:00:01\r\u001b[K     |████████████████▋               | 512kB 2.9MB/s eta 0:00:01\r\u001b[K     |█████████████████               | 522kB 2.9MB/s eta 0:00:01\r\u001b[K     |█████████████████▎              | 532kB 2.9MB/s eta 0:00:01\r\u001b[K     |█████████████████▋              | 542kB 2.9MB/s eta 0:00:01\r\u001b[K     |██████████████████              | 552kB 2.9MB/s eta 0:00:01\r\u001b[K     |██████████████████▎             | 563kB 2.9MB/s eta 0:00:01\r\u001b[K     |██████████████████▋             | 573kB 2.9MB/s eta 0:00:01\r\u001b[K     |███████████████████             | 583kB 2.9MB/s eta 0:00:01\r\u001b[K     |███████████████████▎            | 593kB 2.9MB/s eta 0:00:01\r\u001b[K     |███████████████████▋            | 604kB 2.9MB/s eta 0:00:01\r\u001b[K     |████████████████████            | 614kB 2.9MB/s eta 0:00:01\r\u001b[K     |████████████████████▎           | 624kB 2.9MB/s eta 0:00:01\r\u001b[K     |████████████████████▋           | 634kB 2.9MB/s eta 0:00:01\r\u001b[K     |█████████████████████           | 645kB 2.9MB/s eta 0:00:01\r\u001b[K     |█████████████████████▎          | 655kB 2.9MB/s eta 0:00:01\r\u001b[K     |█████████████████████▋          | 665kB 2.9MB/s eta 0:00:01\r\u001b[K     |██████████████████████          | 675kB 2.9MB/s eta 0:00:01\r\u001b[K     |██████████████████████▎         | 686kB 2.9MB/s eta 0:00:01\r\u001b[K     |██████████████████████▋         | 696kB 2.9MB/s eta 0:00:01\r\u001b[K     |███████████████████████         | 706kB 2.9MB/s eta 0:00:01\r\u001b[K     |███████████████████████▎        | 716kB 2.9MB/s eta 0:00:01\r\u001b[K     |███████████████████████▋        | 727kB 2.9MB/s eta 0:00:01\r\u001b[K     |████████████████████████        | 737kB 2.9MB/s eta 0:00:01\r\u001b[K     |████████████████████████▎       | 747kB 2.9MB/s eta 0:00:01\r\u001b[K     |████████████████████████▋       | 757kB 2.9MB/s eta 0:00:01\r\u001b[K     |████████████████████████▉       | 768kB 2.9MB/s eta 0:00:01\r\u001b[K     |█████████████████████████▏      | 778kB 2.9MB/s eta 0:00:01\r\u001b[K     |█████████████████████████▌      | 788kB 2.9MB/s eta 0:00:01\r\u001b[K     |█████████████████████████▉      | 798kB 2.9MB/s eta 0:00:01\r\u001b[K     |██████████████████████████▏     | 808kB 2.9MB/s eta 0:00:01\r\u001b[K     |██████████████████████████▌     | 819kB 2.9MB/s eta 0:00:01\r\u001b[K     |██████████████████████████▉     | 829kB 2.9MB/s eta 0:00:01\r\u001b[K     |███████████████████████████▏    | 839kB 2.9MB/s eta 0:00:01\r\u001b[K     |███████████████████████████▌    | 849kB 2.9MB/s eta 0:00:01\r\u001b[K     |███████████████████████████▉    | 860kB 2.9MB/s eta 0:00:01\r\u001b[K     |████████████████████████████▏   | 870kB 2.9MB/s eta 0:00:01\r\u001b[K     |████████████████████████████▌   | 880kB 2.9MB/s eta 0:00:01\r\u001b[K     |████████████████████████████▉   | 890kB 2.9MB/s eta 0:00:01\r\u001b[K     |█████████████████████████████▏  | 901kB 2.9MB/s eta 0:00:01\r\u001b[K     |█████████████████████████████▌  | 911kB 2.9MB/s eta 0:00:01\r\u001b[K     |█████████████████████████████▉  | 921kB 2.9MB/s eta 0:00:01\r\u001b[K     |██████████████████████████████▏ | 931kB 2.9MB/s eta 0:00:01\r\u001b[K     |██████████████████████████████▌ | 942kB 2.9MB/s eta 0:00:01\r\u001b[K     |██████████████████████████████▉ | 952kB 2.9MB/s eta 0:00:01\r\u001b[K     |███████████████████████████████▏| 962kB 2.9MB/s eta 0:00:01\r\u001b[K     |███████████████████████████████▌| 972kB 2.9MB/s eta 0:00:01\r\u001b[K     |███████████████████████████████▉| 983kB 2.9MB/s eta 0:00:01\r\u001b[K     |████████████████████████████████| 993kB 2.9MB/s \n",
            "\u001b[?25h  Building wheel for PyDrive (setup.py) ... \u001b[?25l\u001b[?25hdone\n",
            "title: dataset_new, id: 13KSZEEDzFapMQVbvCbK6aK3tRcXmrco0\n",
            "downloading to /root/data/dataset_new\n"
          ],
          "name": "stdout"
        },
        {
          "output_type": "stream",
          "text": [
            "IOPub data rate exceeded.\n",
            "The notebook server will temporarily stop sending output\n",
            "to the client in order to avoid crashing it.\n",
            "To change this limit, set the config variable\n",
            "`--NotebookApp.iopub_data_rate_limit`.\n",
            "\n",
            "Current values:\n",
            "NotebookApp.iopub_data_rate_limit=1000000.0 (bytes/sec)\n",
            "NotebookApp.rate_limit_window=3.0 (secs)\n",
            "\n"
          ],
          "name": "stderr"
        }
      ]
    },
    {
      "cell_type": "code",
      "metadata": {
        "id": "b8VyGjWuzPK_",
        "colab_type": "code",
        "colab": {}
      },
      "source": [
        "import pandas as pd\n",
        "unpickled_df = pd.read_pickle(\"/root/data/dataset_new\")\n",
        "import matplotlib.pyplot as plt\n",
        "from sklearn.model_selection import train_test_split\n"
      ],
      "execution_count": 0,
      "outputs": []
    },
    {
      "cell_type": "code",
      "metadata": {
        "scrolled": true,
        "id": "w3Qg-FuRvzoW",
        "colab_type": "code",
        "colab": {
          "base_uri": "https://localhost:8080/",
          "height": 751
        },
        "outputId": "beafa20b-870e-4c8a-ce1c-2c082529520d"
      },
      "source": [
        "prediction = unpickled_df[1]\n",
        "features = unpickled_df[0]\n",
        "batch_size = 32\n",
        "# split to train,test set \n",
        "# \n",
        "features_train, features_valid, prediction_train, prediction_valid = train_test_split(features, prediction, test_size=0.25, shuffle= True)\n",
        "features_train = features_train/255.\n",
        "features_valid = features_valid/255.\n",
        "from keras.models import Sequential\n",
        "from keras.layers import Dense, Conv2D, Flatten\n",
        "from keras.layers import BatchNormalization, Conv1D, LSTM, Dense, Dropout\n",
        "from keras.layers import Conv2D, MaxPooling2D\n",
        "#create model\n",
        "\n",
        "size = 128\n",
        "model = Sequential()\n",
        "\n",
        "model.add(Conv2D(8, kernel_size=(3, 3), padding='same', activation='relu',\n",
        "                input_shape=(size, size, 3)))\n",
        "model.add(Dropout(0.5))\n",
        "model.add(MaxPooling2D(pool_size=(2, 2), strides=(2, 2)))\n",
        "\n",
        "\n",
        "# model.add(Conv2D(4, kernel_size=(3, 3), padding='same', activation='relu',\n",
        "#                 input_shape=(size, size, 3)))\n",
        "# model.add(Dropout(0.5))\n",
        "# model.add(MaxPooling2D(pool_size=(2, 2), strides=(2, 2)))\n",
        "\n",
        "model.add(Conv2D(4, kernel_size=(3, 3), padding='same', activation='relu',\n",
        "                input_shape=(size, size, 3)))\n",
        "model.add(Dropout(0.5))\n",
        "model.add(Conv2D(2, kernel_size=(3, 3),  activation='relu'))\n",
        "model.add(Dropout(0.5))\n",
        "# model.add(Conv2D(8, kernel_size=(3, 3), activation='relu'))\n",
        "# model.add(Dropout(0.5))\n",
        "model.add(MaxPooling2D(pool_size=(2, 2), strides=(2, 2)))\n",
        "\n",
        "\n",
        "model.add(Flatten())\n",
        "\n",
        "# model.add(Dense(512, activation='relu'))\n",
        "# model.add(Dropout(0.5))\n",
        "\n",
        "model.add(Dense(3, activation='softmax'))\n",
        "model.compile(optimizer='adadelta', loss='categorical_crossentropy', metrics=['categorical_accuracy'])\n",
        "#train the model\n",
        "model.fit(features_train, prediction_train, validation_data=(features_valid, prediction_valid), epochs=20\n",
        "                      ,batch_size=batch_size)"
      ],
      "execution_count": 7,
      "outputs": [
        {
          "output_type": "stream",
          "text": [
            "Train on 321 samples, validate on 107 samples\n",
            "Epoch 1/20\n",
            "321/321 [==============================] - 5s 15ms/step - loss: 1.3437 - categorical_accuracy: 0.3520 - val_loss: 1.0428 - val_categorical_accuracy: 0.4112\n",
            "Epoch 2/20\n",
            "321/321 [==============================] - 4s 13ms/step - loss: 1.0510 - categorical_accuracy: 0.4393 - val_loss: 1.0528 - val_categorical_accuracy: 0.5234\n",
            "Epoch 3/20\n",
            "321/321 [==============================] - 4s 13ms/step - loss: 0.9843 - categorical_accuracy: 0.4953 - val_loss: 0.9734 - val_categorical_accuracy: 0.6729\n",
            "Epoch 4/20\n",
            "321/321 [==============================] - 4s 13ms/step - loss: 0.9146 - categorical_accuracy: 0.6075 - val_loss: 1.0885 - val_categorical_accuracy: 0.3458\n",
            "Epoch 5/20\n",
            "321/321 [==============================] - 4s 13ms/step - loss: 0.8585 - categorical_accuracy: 0.6137 - val_loss: 0.8983 - val_categorical_accuracy: 0.6075\n",
            "Epoch 6/20\n",
            "321/321 [==============================] - 4s 13ms/step - loss: 0.7795 - categorical_accuracy: 0.6698 - val_loss: 0.9443 - val_categorical_accuracy: 0.5607\n",
            "Epoch 7/20\n",
            "321/321 [==============================] - 4s 13ms/step - loss: 0.8585 - categorical_accuracy: 0.6822 - val_loss: 1.0164 - val_categorical_accuracy: 0.6636\n",
            "Epoch 8/20\n",
            "321/321 [==============================] - 4s 13ms/step - loss: 0.7299 - categorical_accuracy: 0.7227 - val_loss: 0.9536 - val_categorical_accuracy: 0.5607\n",
            "Epoch 9/20\n",
            "321/321 [==============================] - 4s 13ms/step - loss: 0.6462 - categorical_accuracy: 0.7259 - val_loss: 0.9598 - val_categorical_accuracy: 0.6916\n",
            "Epoch 10/20\n",
            "321/321 [==============================] - 4s 13ms/step - loss: 0.6028 - categorical_accuracy: 0.8037 - val_loss: 1.0168 - val_categorical_accuracy: 0.5888\n",
            "Epoch 11/20\n",
            "321/321 [==============================] - 4s 13ms/step - loss: 0.5924 - categorical_accuracy: 0.7726 - val_loss: 0.7955 - val_categorical_accuracy: 0.8411\n",
            "Epoch 12/20\n",
            "321/321 [==============================] - 4s 13ms/step - loss: 0.4571 - categorical_accuracy: 0.8193 - val_loss: 0.6568 - val_categorical_accuracy: 0.8598\n",
            "Epoch 13/20\n",
            "321/321 [==============================] - 4s 13ms/step - loss: 0.4845 - categorical_accuracy: 0.8255 - val_loss: 1.0182 - val_categorical_accuracy: 0.4486\n",
            "Epoch 14/20\n",
            "321/321 [==============================] - 4s 13ms/step - loss: 0.4867 - categorical_accuracy: 0.8162 - val_loss: 0.6661 - val_categorical_accuracy: 0.9159\n",
            "Epoch 15/20\n",
            "321/321 [==============================] - 4s 13ms/step - loss: 0.3416 - categorical_accuracy: 0.8442 - val_loss: 0.6435 - val_categorical_accuracy: 0.9065\n",
            "Epoch 16/20\n",
            "321/321 [==============================] - 4s 13ms/step - loss: 0.3426 - categorical_accuracy: 0.8660 - val_loss: 0.7332 - val_categorical_accuracy: 0.8131\n",
            "Epoch 17/20\n",
            "321/321 [==============================] - 4s 13ms/step - loss: 0.3388 - categorical_accuracy: 0.8754 - val_loss: 0.5707 - val_categorical_accuracy: 0.8037\n",
            "Epoch 18/20\n",
            "321/321 [==============================] - 4s 13ms/step - loss: 0.4467 - categorical_accuracy: 0.8411 - val_loss: 0.6052 - val_categorical_accuracy: 0.8785\n",
            "Epoch 19/20\n",
            "321/321 [==============================] - 4s 13ms/step - loss: 0.2755 - categorical_accuracy: 0.9128 - val_loss: 0.5432 - val_categorical_accuracy: 0.8131\n",
            "Epoch 20/20\n",
            "321/321 [==============================] - 4s 14ms/step - loss: 0.3413 - categorical_accuracy: 0.8598 - val_loss: 0.5663 - val_categorical_accuracy: 0.9159\n"
          ],
          "name": "stdout"
        },
        {
          "output_type": "execute_result",
          "data": {
            "text/plain": [
              "<keras.callbacks.History at 0x7f4826538390>"
            ]
          },
          "metadata": {
            "tags": []
          },
          "execution_count": 7
        }
      ]
    },
    {
      "cell_type": "code",
      "metadata": {
        "id": "QrIBgbgiyb5K",
        "colab_type": "code",
        "colab": {}
      },
      "source": [
        "kaggle"
      ],
      "execution_count": 0,
      "outputs": []
    },
    {
      "cell_type": "code",
      "metadata": {
        "id": "pdwu4lgXyb7u",
        "colab_type": "code",
        "colab": {
          "base_uri": "https://localhost:8080/",
          "height": 51
        },
        "outputId": "696358bb-42b9-498d-960c-0b2dedd66bb5"
      },
      "source": [
        "!ssh user@192.168.0.46\n"
      ],
      "execution_count": 13,
      "outputs": [
        {
          "output_type": "stream",
          "text": [
            "password\n",
            "^C\n"
          ],
          "name": "stdout"
        }
      ]
    },
    {
      "cell_type": "code",
      "metadata": {
        "id": "nzMkk68wySZQ",
        "colab_type": "code",
        "colab": {}
      },
      "source": [
        "from keras.models import load_model\n",
        "\n",
        "model.save('model.h5')"
      ],
      "execution_count": 0,
      "outputs": []
    },
    {
      "cell_type": "code",
      "metadata": {
        "id": "5sDdC1B_0ed5",
        "colab_type": "code",
        "colab": {
          "base_uri": "https://localhost:8080/",
          "height": 34
        },
        "outputId": "c5370872-eb9a-4540-ffa7-7f22be7481cd"
      },
      "source": [
        "!ls"
      ],
      "execution_count": 9,
      "outputs": [
        {
          "output_type": "stream",
          "text": [
            "adc.json  model.h5  sample_data\n"
          ],
          "name": "stdout"
        }
      ]
    },
    {
      "cell_type": "code",
      "metadata": {
        "id": "vNqQX2bevzob",
        "colab_type": "code",
        "colab": {}
      },
      "source": [
        ""
      ],
      "execution_count": 0,
      "outputs": []
    }
  ]
}